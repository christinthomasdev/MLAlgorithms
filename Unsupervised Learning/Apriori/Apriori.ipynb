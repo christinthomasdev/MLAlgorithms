{
 "cells": [
  {
   "cell_type": "code",
   "execution_count": 1,
   "metadata": {
    "collapsed": true
   },
   "outputs": [],
   "source": [
    "def load_dataset():\n",
    "    \"Load the sample dataset.\"\n",
    "    return [['laptop', 'earphones','laptop bag', 'mouse', 'pendrive'],\n",
    "['mobile', 'cover', 'earphones', 'pendrive' ],\n",
    "['laptop', 'laptop bag', 'cover', 'pendrive', 'screenguard'],\n",
    "['earphones', 'mouse', 'pendrive', 'cover', 'screenguard'],\n",
    "['laptop bag', 'cover', 'pendrive', 'laptop', 'screenguard'],\n",
    "[ 'laptop','laptop bag','mobile','earphones','pendrive'],\n",
    "[ 'laptop','laptop bag','mouse','earphones','pendrive'],\n",
    "[ 'mobile','laptop bag','laptop','laptop bag'],\n",
    "[ 'laptop','laptop bag','earphones', 'screenguard'],\n",
    "[ 'laptop','laptop bag','earphones','pendrive'],\n",
    "['earphones','laptop','laptop bag','cover','mouse'],\n",
    "['laptop','laptop bag','mobile','pendrive'],\n",
    "['pendrive','mobile','cover','laptop','mouse'],\n",
    "['laptop','laptop bag','mouse','pendrive','earphones'],\n",
    "['earphones','laptop','mobile','laptop bag', 'screenguard']]\n",
    "    #return [['milk', 'butter', 'tea'], ['tea', 'ice', 'milk'], ['ice', 'orange', 'milk', 'butter'], ['milk', 'butter']]"
   ]
  },
  {
   "cell_type": "code",
   "execution_count": 2,
   "metadata": {
    "collapsed": true
   },
   "outputs": [],
   "source": [
    "from numpy import *"
   ]
  },
  {
   "cell_type": "code",
   "execution_count": 3,
   "metadata": {},
   "outputs": [
    {
     "data": {
      "text/plain": [
       "[['laptop', 'earphones', 'laptop bag', 'mouse', 'pendrive'],\n",
       " ['mobile', 'cover', 'earphones', 'pendrive'],\n",
       " ['laptop', 'laptop bag', 'cover', 'pendrive', 'screenguard'],\n",
       " ['earphones', 'mouse', 'pendrive', 'cover', 'screenguard'],\n",
       " ['laptop bag', 'cover', 'pendrive', 'laptop', 'screenguard'],\n",
       " ['laptop', 'laptop bag', 'mobile', 'earphones', 'pendrive'],\n",
       " ['laptop', 'laptop bag', 'mouse', 'earphones', 'pendrive'],\n",
       " ['mobile', 'laptop bag', 'laptop', 'laptop bag'],\n",
       " ['laptop', 'laptop bag', 'earphones', 'screenguard'],\n",
       " ['laptop', 'laptop bag', 'earphones', 'pendrive'],\n",
       " ['earphones', 'laptop', 'laptop bag', 'cover', 'mouse'],\n",
       " ['laptop', 'laptop bag', 'mobile', 'pendrive'],\n",
       " ['pendrive', 'mobile', 'cover', 'laptop', 'mouse'],\n",
       " ['laptop', 'laptop bag', 'mouse', 'pendrive', 'earphones'],\n",
       " ['earphones', 'laptop', 'mobile', 'laptop bag', 'screenguard']]"
      ]
     },
     "execution_count": 3,
     "metadata": {},
     "output_type": "execute_result"
    }
   ],
   "source": [
    "load_dataset()"
   ]
  },
  {
   "cell_type": "code",
   "execution_count": 4,
   "metadata": {
    "collapsed": true
   },
   "outputs": [],
   "source": [
    "def createC1(dataset):\n",
    "    \"Create a list of candidate item sets of size one.\"\n",
    "    c1 = []\n",
    "    for transaction in dataset:\n",
    "        #print(transaction)\n",
    "        for item in transaction:\n",
    "            if not [item] in c1:\n",
    "                c1.append([item])\n",
    "    c1.sort()\n",
    "    #frozenset because it will be a key of a dictionary.\n",
    "    return list(map(frozenset, c1))"
   ]
  },
  {
   "cell_type": "code",
   "execution_count": 5,
   "metadata": {},
   "outputs": [
    {
     "data": {
      "text/plain": [
       "[frozenset({'cover'}),\n",
       " frozenset({'earphones'}),\n",
       " frozenset({'laptop'}),\n",
       " frozenset({'laptop bag'}),\n",
       " frozenset({'mobile'}),\n",
       " frozenset({'mouse'}),\n",
       " frozenset({'pendrive'}),\n",
       " frozenset({'screenguard'})]"
      ]
     },
     "execution_count": 5,
     "metadata": {},
     "output_type": "execute_result"
    }
   ],
   "source": [
    "X =load_dataset()\n",
    "createC1(X)"
   ]
  },
  {
   "cell_type": "code",
   "execution_count": 6,
   "metadata": {
    "collapsed": true
   },
   "outputs": [],
   "source": [
    "def scanD(dataset, candidates, min_support):\n",
    "    \"Returns all candidates that meets a minimum support level\"\n",
    "    sscnt = {}\n",
    "    for tid in dataset:\n",
    "        for can in candidates:\n",
    "            if can.issubset(tid):\n",
    "                sscnt.setdefault(can, 0)\n",
    "                sscnt[can] += 1\n",
    "\n",
    "    num_items = float(len(dataset))\n",
    "    retlist = []\n",
    "    support_data = {}\n",
    "    for key in sscnt:\n",
    "        support = sscnt[key] / num_items\n",
    "        if support >= min_support:\n",
    "            retlist.insert(0, key)\n",
    "        support_data[key] = support\n",
    "    return retlist, support_data\n"
   ]
  },
  {
   "cell_type": "code",
   "execution_count": 7,
   "metadata": {
    "collapsed": true
   },
   "outputs": [],
   "source": [
    "dataset = load_dataset()"
   ]
  },
  {
   "cell_type": "code",
   "execution_count": 8,
   "metadata": {},
   "outputs": [
    {
     "data": {
      "text/plain": [
       "[['laptop', 'earphones', 'laptop bag', 'mouse', 'pendrive'],\n",
       " ['mobile', 'cover', 'earphones', 'pendrive'],\n",
       " ['laptop', 'laptop bag', 'cover', 'pendrive', 'screenguard'],\n",
       " ['earphones', 'mouse', 'pendrive', 'cover', 'screenguard'],\n",
       " ['laptop bag', 'cover', 'pendrive', 'laptop', 'screenguard'],\n",
       " ['laptop', 'laptop bag', 'mobile', 'earphones', 'pendrive'],\n",
       " ['laptop', 'laptop bag', 'mouse', 'earphones', 'pendrive'],\n",
       " ['mobile', 'laptop bag', 'laptop', 'laptop bag'],\n",
       " ['laptop', 'laptop bag', 'earphones', 'screenguard'],\n",
       " ['laptop', 'laptop bag', 'earphones', 'pendrive'],\n",
       " ['earphones', 'laptop', 'laptop bag', 'cover', 'mouse'],\n",
       " ['laptop', 'laptop bag', 'mobile', 'pendrive'],\n",
       " ['pendrive', 'mobile', 'cover', 'laptop', 'mouse'],\n",
       " ['laptop', 'laptop bag', 'mouse', 'pendrive', 'earphones'],\n",
       " ['earphones', 'laptop', 'mobile', 'laptop bag', 'screenguard']]"
      ]
     },
     "execution_count": 8,
     "metadata": {},
     "output_type": "execute_result"
    }
   ],
   "source": [
    "dataset"
   ]
  },
  {
   "cell_type": "code",
   "execution_count": 9,
   "metadata": {
    "collapsed": true
   },
   "outputs": [],
   "source": [
    "c1 = createC1(dataset)"
   ]
  },
  {
   "cell_type": "code",
   "execution_count": 10,
   "metadata": {},
   "outputs": [
    {
     "data": {
      "text/plain": [
       "[frozenset({'cover'}),\n",
       " frozenset({'earphones'}),\n",
       " frozenset({'laptop'}),\n",
       " frozenset({'laptop bag'}),\n",
       " frozenset({'mobile'}),\n",
       " frozenset({'mouse'}),\n",
       " frozenset({'pendrive'}),\n",
       " frozenset({'screenguard'})]"
      ]
     },
     "execution_count": 10,
     "metadata": {},
     "output_type": "execute_result"
    }
   ],
   "source": [
    "c1"
   ]
  },
  {
   "cell_type": "code",
   "execution_count": 11,
   "metadata": {
    "collapsed": true
   },
   "outputs": [],
   "source": [
    "D =  list(map(set,dataset))"
   ]
  },
  {
   "cell_type": "code",
   "execution_count": 12,
   "metadata": {},
   "outputs": [
    {
     "data": {
      "text/plain": [
       "[{'earphones', 'laptop', 'laptop bag', 'mouse', 'pendrive'},\n",
       " {'cover', 'earphones', 'mobile', 'pendrive'},\n",
       " {'cover', 'laptop', 'laptop bag', 'pendrive', 'screenguard'},\n",
       " {'cover', 'earphones', 'mouse', 'pendrive', 'screenguard'},\n",
       " {'cover', 'laptop', 'laptop bag', 'pendrive', 'screenguard'},\n",
       " {'earphones', 'laptop', 'laptop bag', 'mobile', 'pendrive'},\n",
       " {'earphones', 'laptop', 'laptop bag', 'mouse', 'pendrive'},\n",
       " {'laptop', 'laptop bag', 'mobile'},\n",
       " {'earphones', 'laptop', 'laptop bag', 'screenguard'},\n",
       " {'earphones', 'laptop', 'laptop bag', 'pendrive'},\n",
       " {'cover', 'earphones', 'laptop', 'laptop bag', 'mouse'},\n",
       " {'laptop', 'laptop bag', 'mobile', 'pendrive'},\n",
       " {'cover', 'laptop', 'mobile', 'mouse', 'pendrive'},\n",
       " {'earphones', 'laptop', 'laptop bag', 'mouse', 'pendrive'},\n",
       " {'earphones', 'laptop', 'laptop bag', 'mobile', 'screenguard'}]"
      ]
     },
     "execution_count": 12,
     "metadata": {},
     "output_type": "execute_result"
    }
   ],
   "source": [
    "D"
   ]
  },
  {
   "cell_type": "code",
   "execution_count": 13,
   "metadata": {
    "collapsed": true
   },
   "outputs": [],
   "source": [
    "L1,SD = scanD(D,c1,0.5)"
   ]
  },
  {
   "cell_type": "code",
   "execution_count": 14,
   "metadata": {},
   "outputs": [
    {
     "data": {
      "text/plain": [
       "[frozenset({'pendrive'}),\n",
       " frozenset({'laptop bag'}),\n",
       " frozenset({'laptop'}),\n",
       " frozenset({'earphones'})]"
      ]
     },
     "execution_count": 14,
     "metadata": {},
     "output_type": "execute_result"
    }
   ],
   "source": [
    "\n",
    "L1"
   ]
  },
  {
   "cell_type": "code",
   "execution_count": 15,
   "metadata": {},
   "outputs": [
    {
     "data": {
      "text/plain": [
       "{frozenset({'earphones'}): 0.6666666666666666,\n",
       " frozenset({'laptop'}): 0.8666666666666667,\n",
       " frozenset({'laptop bag'}): 0.8,\n",
       " frozenset({'mouse'}): 0.4,\n",
       " frozenset({'pendrive'}): 0.7333333333333333,\n",
       " frozenset({'cover'}): 0.4,\n",
       " frozenset({'mobile'}): 0.4,\n",
       " frozenset({'screenguard'}): 0.3333333333333333}"
      ]
     },
     "execution_count": 15,
     "metadata": {},
     "output_type": "execute_result"
    }
   ],
   "source": [
    "SD"
   ]
  },
  {
   "cell_type": "code",
   "execution_count": 16,
   "metadata": {
    "collapsed": true
   },
   "outputs": [],
   "source": [
    "def aprioriGen(Lk, k): #creates Ck\n",
    "    retList = []\n",
    "    lenLk = len(Lk)\n",
    "    for i in range(lenLk):\n",
    "        for j in range(i+1, lenLk): \n",
    "            L1 = list(Lk[i])[:k-2]\n",
    "            L2 = list(Lk[j])[:k-2]\n",
    "            L1.sort() \n",
    "            L2.sort()\n",
    "            if L1==L2: #if first k-2 elements are equal\n",
    "                retList.append(Lk[i] | Lk[j]) #set union\n",
    "                print(retList)\n",
    "        \n",
    "    return retList"
   ]
  },
  {
   "cell_type": "code",
   "execution_count": 17,
   "metadata": {},
   "outputs": [
    {
     "name": "stdout",
     "output_type": "stream",
     "text": [
      "[[frozenset({'pendrive'}), frozenset({'laptop bag'}), frozenset({'laptop'}), frozenset({'earphones'})]]\n",
      "4\n",
      "[frozenset({'pendrive', 'laptop bag'})]\n",
      "[frozenset({'pendrive', 'laptop bag'}), frozenset({'pendrive', 'laptop'})]\n",
      "[frozenset({'pendrive', 'laptop bag'}), frozenset({'pendrive', 'laptop'}), frozenset({'pendrive', 'earphones'})]\n",
      "[frozenset({'pendrive', 'laptop bag'}), frozenset({'pendrive', 'laptop'}), frozenset({'pendrive', 'earphones'}), frozenset({'laptop', 'laptop bag'})]\n",
      "[frozenset({'pendrive', 'laptop bag'}), frozenset({'pendrive', 'laptop'}), frozenset({'pendrive', 'earphones'}), frozenset({'laptop', 'laptop bag'}), frozenset({'earphones', 'laptop bag'})]\n",
      "[frozenset({'pendrive', 'laptop bag'}), frozenset({'pendrive', 'laptop'}), frozenset({'pendrive', 'earphones'}), frozenset({'laptop', 'laptop bag'}), frozenset({'earphones', 'laptop bag'}), frozenset({'laptop', 'earphones'})]\n"
     ]
    }
   ],
   "source": [
    "L1, supportData = scanD(dataset, c1, 0.5)\n",
    "L = [L1]\n",
    "k = 2\n",
    "print(L)\n",
    "print(len(L[0]))\n",
    "Ck = aprioriGen(L[k-2], k)\n"
   ]
  },
  {
   "cell_type": "code",
   "execution_count": 18,
   "metadata": {
    "collapsed": true
   },
   "outputs": [],
   "source": [
    "def apriori(dataSet, minSupport = 0.40):\n",
    "    C1 = createC1(dataSet)\n",
    "    D = list(map(set, dataSet))\n",
    "    L1, supportData = scanD(D, C1, minSupport)\n",
    "    L = [L1]\n",
    "    k = 2\n",
    "    while (len(L[k-2]) > 0):\n",
    "        Ck = aprioriGen(L[k-2], k)\n",
    "        Lk, supK = scanD(D, Ck, minSupport)#scan DB to get Lk\n",
    "        supportData.update(supK)\n",
    "        L.append(Lk)\n",
    "        k += 1\n",
    "        \n",
    "       \n",
    "    return L, supportData"
   ]
  },
  {
   "cell_type": "code",
   "execution_count": 19,
   "metadata": {},
   "outputs": [
    {
     "name": "stdout",
     "output_type": "stream",
     "text": [
      "[frozenset({'cover', 'mobile'})]\n",
      "[frozenset({'cover', 'mobile'}), frozenset({'pendrive', 'mobile'})]\n",
      "[frozenset({'cover', 'mobile'}), frozenset({'pendrive', 'mobile'}), frozenset({'mouse', 'mobile'})]\n",
      "[frozenset({'cover', 'mobile'}), frozenset({'pendrive', 'mobile'}), frozenset({'mouse', 'mobile'}), frozenset({'mobile', 'laptop bag'})]\n",
      "[frozenset({'cover', 'mobile'}), frozenset({'pendrive', 'mobile'}), frozenset({'mouse', 'mobile'}), frozenset({'mobile', 'laptop bag'}), frozenset({'laptop', 'mobile'})]\n",
      "[frozenset({'cover', 'mobile'}), frozenset({'pendrive', 'mobile'}), frozenset({'mouse', 'mobile'}), frozenset({'mobile', 'laptop bag'}), frozenset({'laptop', 'mobile'}), frozenset({'mobile', 'earphones'})]\n",
      "[frozenset({'cover', 'mobile'}), frozenset({'pendrive', 'mobile'}), frozenset({'mouse', 'mobile'}), frozenset({'mobile', 'laptop bag'}), frozenset({'laptop', 'mobile'}), frozenset({'mobile', 'earphones'}), frozenset({'pendrive', 'cover'})]\n",
      "[frozenset({'cover', 'mobile'}), frozenset({'pendrive', 'mobile'}), frozenset({'mouse', 'mobile'}), frozenset({'mobile', 'laptop bag'}), frozenset({'laptop', 'mobile'}), frozenset({'mobile', 'earphones'}), frozenset({'pendrive', 'cover'}), frozenset({'cover', 'mouse'})]\n",
      "[frozenset({'cover', 'mobile'}), frozenset({'pendrive', 'mobile'}), frozenset({'mouse', 'mobile'}), frozenset({'mobile', 'laptop bag'}), frozenset({'laptop', 'mobile'}), frozenset({'mobile', 'earphones'}), frozenset({'pendrive', 'cover'}), frozenset({'cover', 'mouse'}), frozenset({'cover', 'laptop bag'})]\n",
      "[frozenset({'cover', 'mobile'}), frozenset({'pendrive', 'mobile'}), frozenset({'mouse', 'mobile'}), frozenset({'mobile', 'laptop bag'}), frozenset({'laptop', 'mobile'}), frozenset({'mobile', 'earphones'}), frozenset({'pendrive', 'cover'}), frozenset({'cover', 'mouse'}), frozenset({'cover', 'laptop bag'}), frozenset({'laptop', 'cover'})]\n",
      "[frozenset({'cover', 'mobile'}), frozenset({'pendrive', 'mobile'}), frozenset({'mouse', 'mobile'}), frozenset({'mobile', 'laptop bag'}), frozenset({'laptop', 'mobile'}), frozenset({'mobile', 'earphones'}), frozenset({'pendrive', 'cover'}), frozenset({'cover', 'mouse'}), frozenset({'cover', 'laptop bag'}), frozenset({'laptop', 'cover'}), frozenset({'cover', 'earphones'})]\n",
      "[frozenset({'cover', 'mobile'}), frozenset({'pendrive', 'mobile'}), frozenset({'mouse', 'mobile'}), frozenset({'mobile', 'laptop bag'}), frozenset({'laptop', 'mobile'}), frozenset({'mobile', 'earphones'}), frozenset({'pendrive', 'cover'}), frozenset({'cover', 'mouse'}), frozenset({'cover', 'laptop bag'}), frozenset({'laptop', 'cover'}), frozenset({'cover', 'earphones'}), frozenset({'pendrive', 'mouse'})]\n",
      "[frozenset({'cover', 'mobile'}), frozenset({'pendrive', 'mobile'}), frozenset({'mouse', 'mobile'}), frozenset({'mobile', 'laptop bag'}), frozenset({'laptop', 'mobile'}), frozenset({'mobile', 'earphones'}), frozenset({'pendrive', 'cover'}), frozenset({'cover', 'mouse'}), frozenset({'cover', 'laptop bag'}), frozenset({'laptop', 'cover'}), frozenset({'cover', 'earphones'}), frozenset({'pendrive', 'mouse'}), frozenset({'pendrive', 'laptop bag'})]\n",
      "[frozenset({'cover', 'mobile'}), frozenset({'pendrive', 'mobile'}), frozenset({'mouse', 'mobile'}), frozenset({'mobile', 'laptop bag'}), frozenset({'laptop', 'mobile'}), frozenset({'mobile', 'earphones'}), frozenset({'pendrive', 'cover'}), frozenset({'cover', 'mouse'}), frozenset({'cover', 'laptop bag'}), frozenset({'laptop', 'cover'}), frozenset({'cover', 'earphones'}), frozenset({'pendrive', 'mouse'}), frozenset({'pendrive', 'laptop bag'}), frozenset({'pendrive', 'laptop'})]\n",
      "[frozenset({'cover', 'mobile'}), frozenset({'pendrive', 'mobile'}), frozenset({'mouse', 'mobile'}), frozenset({'mobile', 'laptop bag'}), frozenset({'laptop', 'mobile'}), frozenset({'mobile', 'earphones'}), frozenset({'pendrive', 'cover'}), frozenset({'cover', 'mouse'}), frozenset({'cover', 'laptop bag'}), frozenset({'laptop', 'cover'}), frozenset({'cover', 'earphones'}), frozenset({'pendrive', 'mouse'}), frozenset({'pendrive', 'laptop bag'}), frozenset({'pendrive', 'laptop'}), frozenset({'pendrive', 'earphones'})]\n",
      "[frozenset({'cover', 'mobile'}), frozenset({'pendrive', 'mobile'}), frozenset({'mouse', 'mobile'}), frozenset({'mobile', 'laptop bag'}), frozenset({'laptop', 'mobile'}), frozenset({'mobile', 'earphones'}), frozenset({'pendrive', 'cover'}), frozenset({'cover', 'mouse'}), frozenset({'cover', 'laptop bag'}), frozenset({'laptop', 'cover'}), frozenset({'cover', 'earphones'}), frozenset({'pendrive', 'mouse'}), frozenset({'pendrive', 'laptop bag'}), frozenset({'pendrive', 'laptop'}), frozenset({'pendrive', 'earphones'}), frozenset({'mouse', 'laptop bag'})]\n",
      "[frozenset({'cover', 'mobile'}), frozenset({'pendrive', 'mobile'}), frozenset({'mouse', 'mobile'}), frozenset({'mobile', 'laptop bag'}), frozenset({'laptop', 'mobile'}), frozenset({'mobile', 'earphones'}), frozenset({'pendrive', 'cover'}), frozenset({'cover', 'mouse'}), frozenset({'cover', 'laptop bag'}), frozenset({'laptop', 'cover'}), frozenset({'cover', 'earphones'}), frozenset({'pendrive', 'mouse'}), frozenset({'pendrive', 'laptop bag'}), frozenset({'pendrive', 'laptop'}), frozenset({'pendrive', 'earphones'}), frozenset({'mouse', 'laptop bag'}), frozenset({'laptop', 'mouse'})]\n",
      "[frozenset({'cover', 'mobile'}), frozenset({'pendrive', 'mobile'}), frozenset({'mouse', 'mobile'}), frozenset({'mobile', 'laptop bag'}), frozenset({'laptop', 'mobile'}), frozenset({'mobile', 'earphones'}), frozenset({'pendrive', 'cover'}), frozenset({'cover', 'mouse'}), frozenset({'cover', 'laptop bag'}), frozenset({'laptop', 'cover'}), frozenset({'cover', 'earphones'}), frozenset({'pendrive', 'mouse'}), frozenset({'pendrive', 'laptop bag'}), frozenset({'pendrive', 'laptop'}), frozenset({'pendrive', 'earphones'}), frozenset({'mouse', 'laptop bag'}), frozenset({'laptop', 'mouse'}), frozenset({'mouse', 'earphones'})]\n",
      "[frozenset({'cover', 'mobile'}), frozenset({'pendrive', 'mobile'}), frozenset({'mouse', 'mobile'}), frozenset({'mobile', 'laptop bag'}), frozenset({'laptop', 'mobile'}), frozenset({'mobile', 'earphones'}), frozenset({'pendrive', 'cover'}), frozenset({'cover', 'mouse'}), frozenset({'cover', 'laptop bag'}), frozenset({'laptop', 'cover'}), frozenset({'cover', 'earphones'}), frozenset({'pendrive', 'mouse'}), frozenset({'pendrive', 'laptop bag'}), frozenset({'pendrive', 'laptop'}), frozenset({'pendrive', 'earphones'}), frozenset({'mouse', 'laptop bag'}), frozenset({'laptop', 'mouse'}), frozenset({'mouse', 'earphones'}), frozenset({'laptop', 'laptop bag'})]\n",
      "[frozenset({'cover', 'mobile'}), frozenset({'pendrive', 'mobile'}), frozenset({'mouse', 'mobile'}), frozenset({'mobile', 'laptop bag'}), frozenset({'laptop', 'mobile'}), frozenset({'mobile', 'earphones'}), frozenset({'pendrive', 'cover'}), frozenset({'cover', 'mouse'}), frozenset({'cover', 'laptop bag'}), frozenset({'laptop', 'cover'}), frozenset({'cover', 'earphones'}), frozenset({'pendrive', 'mouse'}), frozenset({'pendrive', 'laptop bag'}), frozenset({'pendrive', 'laptop'}), frozenset({'pendrive', 'earphones'}), frozenset({'mouse', 'laptop bag'}), frozenset({'laptop', 'mouse'}), frozenset({'mouse', 'earphones'}), frozenset({'laptop', 'laptop bag'}), frozenset({'earphones', 'laptop bag'})]\n",
      "[frozenset({'cover', 'mobile'}), frozenset({'pendrive', 'mobile'}), frozenset({'mouse', 'mobile'}), frozenset({'mobile', 'laptop bag'}), frozenset({'laptop', 'mobile'}), frozenset({'mobile', 'earphones'}), frozenset({'pendrive', 'cover'}), frozenset({'cover', 'mouse'}), frozenset({'cover', 'laptop bag'}), frozenset({'laptop', 'cover'}), frozenset({'cover', 'earphones'}), frozenset({'pendrive', 'mouse'}), frozenset({'pendrive', 'laptop bag'}), frozenset({'pendrive', 'laptop'}), frozenset({'pendrive', 'earphones'}), frozenset({'mouse', 'laptop bag'}), frozenset({'laptop', 'mouse'}), frozenset({'mouse', 'earphones'}), frozenset({'laptop', 'laptop bag'}), frozenset({'earphones', 'laptop bag'}), frozenset({'laptop', 'earphones'})]\n",
      "[frozenset({'laptop', 'earphones', 'laptop bag'})]\n",
      "[frozenset({'laptop', 'earphones', 'laptop bag'}), frozenset({'pendrive', 'laptop', 'earphones'})]\n",
      "[frozenset({'laptop', 'earphones', 'laptop bag'}), frozenset({'pendrive', 'laptop', 'earphones'}), frozenset({'pendrive', 'earphones', 'laptop bag'})]\n",
      "[frozenset({'laptop', 'earphones', 'laptop bag'}), frozenset({'pendrive', 'laptop', 'earphones'}), frozenset({'pendrive', 'earphones', 'laptop bag'}), frozenset({'pendrive', 'laptop', 'laptop bag'})]\n"
     ]
    }
   ],
   "source": [
    "L,SD = apriori(load_dataset())"
   ]
  },
  {
   "cell_type": "code",
   "execution_count": 20,
   "metadata": {},
   "outputs": [
    {
     "data": {
      "text/plain": [
       "[[frozenset({'mobile'}),\n",
       "  frozenset({'cover'}),\n",
       "  frozenset({'pendrive'}),\n",
       "  frozenset({'mouse'}),\n",
       "  frozenset({'laptop bag'}),\n",
       "  frozenset({'laptop'}),\n",
       "  frozenset({'earphones'})],\n",
       " [frozenset({'earphones', 'laptop'}),\n",
       "  frozenset({'earphones', 'laptop bag'}),\n",
       "  frozenset({'laptop', 'laptop bag'}),\n",
       "  frozenset({'earphones', 'pendrive'}),\n",
       "  frozenset({'laptop', 'pendrive'}),\n",
       "  frozenset({'laptop bag', 'pendrive'})],\n",
       " [frozenset({'laptop', 'laptop bag', 'pendrive'}),\n",
       "  frozenset({'earphones', 'laptop', 'laptop bag'})],\n",
       " []]"
      ]
     },
     "execution_count": 20,
     "metadata": {},
     "output_type": "execute_result"
    }
   ],
   "source": [
    "L"
   ]
  },
  {
   "cell_type": "code",
   "execution_count": 21,
   "metadata": {},
   "outputs": [
    {
     "data": {
      "text/plain": [
       "{frozenset({'earphones'}): 0.6666666666666666,\n",
       " frozenset({'laptop'}): 0.8666666666666667,\n",
       " frozenset({'laptop bag'}): 0.8,\n",
       " frozenset({'mouse'}): 0.4,\n",
       " frozenset({'pendrive'}): 0.7333333333333333,\n",
       " frozenset({'cover'}): 0.4,\n",
       " frozenset({'mobile'}): 0.4,\n",
       " frozenset({'screenguard'}): 0.3333333333333333,\n",
       " frozenset({'mouse', 'pendrive'}): 0.3333333333333333,\n",
       " frozenset({'laptop bag', 'pendrive'}): 0.5333333333333333,\n",
       " frozenset({'laptop', 'pendrive'}): 0.6,\n",
       " frozenset({'earphones', 'pendrive'}): 0.4666666666666667,\n",
       " frozenset({'laptop bag', 'mouse'}): 0.26666666666666666,\n",
       " frozenset({'laptop', 'mouse'}): 0.3333333333333333,\n",
       " frozenset({'earphones', 'mouse'}): 0.3333333333333333,\n",
       " frozenset({'laptop', 'laptop bag'}): 0.8,\n",
       " frozenset({'earphones', 'laptop bag'}): 0.5333333333333333,\n",
       " frozenset({'earphones', 'laptop'}): 0.5333333333333333,\n",
       " frozenset({'cover', 'mobile'}): 0.13333333333333333,\n",
       " frozenset({'mobile', 'pendrive'}): 0.26666666666666666,\n",
       " frozenset({'earphones', 'mobile'}): 0.2,\n",
       " frozenset({'cover', 'pendrive'}): 0.3333333333333333,\n",
       " frozenset({'cover', 'earphones'}): 0.2,\n",
       " frozenset({'cover', 'laptop bag'}): 0.2,\n",
       " frozenset({'cover', 'laptop'}): 0.26666666666666666,\n",
       " frozenset({'cover', 'mouse'}): 0.2,\n",
       " frozenset({'laptop bag', 'mobile'}): 0.26666666666666666,\n",
       " frozenset({'laptop', 'mobile'}): 0.3333333333333333,\n",
       " frozenset({'mobile', 'mouse'}): 0.06666666666666667,\n",
       " frozenset({'earphones', 'laptop', 'laptop bag'}): 0.5333333333333333,\n",
       " frozenset({'earphones', 'laptop', 'pendrive'}): 0.3333333333333333,\n",
       " frozenset({'earphones', 'laptop bag', 'pendrive'}): 0.3333333333333333,\n",
       " frozenset({'laptop', 'laptop bag', 'pendrive'}): 0.5333333333333333}"
      ]
     },
     "execution_count": 21,
     "metadata": {},
     "output_type": "execute_result"
    }
   ],
   "source": [
    "SD"
   ]
  },
  {
   "cell_type": "code",
   "execution_count": 22,
   "metadata": {},
   "outputs": [
    {
     "name": "stdout",
     "output_type": "stream",
     "text": [
      "[frozenset({'laptop', 'earphones'}), frozenset({'earphones', 'laptop bag'}), frozenset({'laptop', 'laptop bag'}), frozenset({'pendrive', 'earphones'}), frozenset({'pendrive', 'laptop'}), frozenset({'pendrive', 'laptop bag'})]\n",
      "--- frozenset({'pendrive', 'earphones', 'laptop bag'}) dfghjk\n",
      "[]\n"
     ]
    }
   ],
   "source": [
    "print(L[1])\n",
    "Lk=L[1]\n",
    "k=2\n",
    "retList=[]\n",
    "L1 = list(Lk[0])[:]\n",
    "\n",
    "L2 = list(Lk[1])[:]\n",
    "\n",
    "print('---',Lk[1] | Lk[3],'dfghjk')\n",
    "L1.sort() \n",
    "L2.sort()\n",
    "if L1==L2: #if first k-2 elements are equal\n",
    "    retList.append(Lk[0] | Lk[1]) #set union\n",
    "                #print(retList)\n",
    "print(retList)\n",
    "#aprioriGen(L[0],2)"
   ]
  },
  {
   "cell_type": "code",
   "execution_count": 23,
   "metadata": {
    "collapsed": true
   },
   "outputs": [],
   "source": [
    "def generateRules(L, supportData, minConf=0.7):  #supportData is a dict coming from scanD\n",
    "    bigRuleList = []\n",
    "    for i in range(1, len(L)):#only get the sets with two or more items\n",
    "        for freqSet in L[i]:\n",
    "            print(freqSet)\n",
    "            H1 = [frozenset([item]) for item in freqSet]\n",
    "            if (i > 1):\n",
    "                rulesFromConseq(freqSet, H1, supportData, bigRuleList, minConf)\n",
    "            else:\n",
    "                calcConf(freqSet, H1, supportData, bigRuleList, minConf)\n",
    "    return bigRuleList   "
   ]
  },
  {
   "cell_type": "code",
   "execution_count": 24,
   "metadata": {
    "collapsed": true
   },
   "outputs": [],
   "source": [
    "def calcConf(freqSet, H, supportData, brl, minConf=0.7):\n",
    "    prunedH = [] #create new list to return\n",
    "    for conseq in H:\n",
    "        conf = supportData[freqSet]/supportData[freqSet-conseq] #calc confidence\n",
    "        if conf >= minConf: \n",
    "            print (freqSet-conseq,'-->',conseq,'conf:',conf)\n",
    "            brl.append((freqSet-conseq, conseq, conf))\n",
    "            prunedH.append(conseq)\n",
    "    return prunedH"
   ]
  },
  {
   "cell_type": "code",
   "execution_count": 25,
   "metadata": {
    "collapsed": true
   },
   "outputs": [],
   "source": [
    "def rulesFromConseq(freqSet, H, supportData, brl, minConf=0.7):\n",
    "    m = len(H[0])\n",
    "    if (len(freqSet) > (m + 1)): #try further merging\n",
    "        Hmp1 = aprioriGen(H, m+1)#create Hm+1 new candidates\n",
    "        Hmp1 = calcConf(freqSet, Hmp1, supportData, brl, minConf)\n",
    "        if (len(Hmp1) > 1):    #need at least two sets to merge\n",
    "            rulesFromConseq(freqSet, Hmp1, supportData, brl, minConf)"
   ]
  },
  {
   "cell_type": "code",
   "execution_count": 26,
   "metadata": {},
   "outputs": [
    {
     "name": "stdout",
     "output_type": "stream",
     "text": [
      "[frozenset({'pendrive', 'laptop bag'})]\n",
      "[frozenset({'pendrive', 'laptop bag'}), frozenset({'pendrive', 'laptop'})]\n",
      "[frozenset({'pendrive', 'laptop bag'}), frozenset({'pendrive', 'laptop'}), frozenset({'laptop', 'laptop bag'})]\n",
      "[[frozenset({'pendrive'}), frozenset({'laptop bag'}), frozenset({'laptop'})], [frozenset({'laptop', 'laptop bag'})], []]\n",
      "{frozenset({'earphones'}): 0.6666666666666666, frozenset({'laptop'}): 0.8666666666666667, frozenset({'laptop bag'}): 0.8, frozenset({'mouse'}): 0.4, frozenset({'pendrive'}): 0.7333333333333333, frozenset({'cover'}): 0.4, frozenset({'mobile'}): 0.4, frozenset({'screenguard'}): 0.3333333333333333, frozenset({'pendrive', 'laptop bag'}): 0.5333333333333333, frozenset({'pendrive', 'laptop'}): 0.6, frozenset({'laptop', 'laptop bag'}): 0.8}\n"
     ]
    }
   ],
   "source": [
    "L,suppData= apriori(dataset,minSupport=0.7)\n",
    "print(L)\n",
    "print(suppData)"
   ]
  },
  {
   "cell_type": "code",
   "execution_count": 27,
   "metadata": {},
   "outputs": [
    {
     "name": "stdout",
     "output_type": "stream",
     "text": [
      "frozenset({'laptop', 'laptop bag'})\n",
      "frozenset({'laptop bag'}) --> frozenset({'laptop'}) conf: 1.0\n",
      "frozenset({'laptop'}) --> frozenset({'laptop bag'}) conf: 0.9230769230769231\n"
     ]
    }
   ],
   "source": [
    "rules= generateRules(L,suppData, minConf=0.7)\n"
   ]
  },
  {
   "cell_type": "code",
   "execution_count": null,
   "metadata": {
    "collapsed": true
   },
   "outputs": [],
   "source": []
  },
  {
   "cell_type": "code",
   "execution_count": null,
   "metadata": {
    "collapsed": true
   },
   "outputs": [],
   "source": [
    "\n"
   ]
  }
 ],
 "metadata": {
  "kernelspec": {
   "display_name": "Python 3",
   "language": "python",
   "name": "python3"
  },
  "language_info": {
   "codemirror_mode": {
    "name": "ipython",
    "version": 3
   },
   "file_extension": ".py",
   "mimetype": "text/x-python",
   "name": "python",
   "nbconvert_exporter": "python",
   "pygments_lexer": "ipython3",
   "version": "3.6.1"
  }
 },
 "nbformat": 4,
 "nbformat_minor": 2
}
