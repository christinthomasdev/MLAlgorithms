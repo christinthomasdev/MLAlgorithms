{
 "cells": [
  {
   "cell_type": "code",
   "execution_count": 1,
   "metadata": {
    "collapsed": true
   },
   "outputs": [],
   "source": [
    "from tweepy.streaming import StreamListener\n",
    "from tweepy import OAuthHandler\n",
    "from tweepy import Stream\n",
    "import tweepy"
   ]
  },
  {
   "cell_type": "code",
   "execution_count": 2,
   "metadata": {
    "collapsed": true
   },
   "outputs": [],
   "source": [
    "access_token = \"783358251555393537-sunKJGvZThb4SEYXNrn7m6JaxaQbsww\"\n",
    "access_token_secret = \"TjONsjSUkZARtzhqpZIiAfD0QXtCanzrbCZSAoPU6I7Fi\"\n",
    "consumer_key = \"I3oXMp25tc1FPJnx1Yf0yywb3\"\n",
    "consumer_secret = \"y9m8hQUVCzLMb4O7w9B6IntsvDHNMgcdSzfySn3rHXzxCPkTD4\""
   ]
  },
  {
   "cell_type": "code",
   "execution_count": 4,
   "metadata": {},
   "outputs": [],
   "source": [
    "class StdOutListener(StreamListener):\n",
    "    def on_data(self,data):\n",
    "        print(data)\n",
    "        return True\n",
    "    def on_error(self, status):\n",
    "        print(status)"
   ]
  },
  {
   "cell_type": "code",
   "execution_count": 5,
   "metadata": {
    "collapsed": true
   },
   "outputs": [],
   "source": [
    "if __name__ == '__main__':\n",
    "    l = StdOutListener()\n",
    "    auth = OAuthHandler(consumer_key, consumer_secret)\n",
    "    auth.set_access_token(access_token, access_token_secret)\n",
    "    stream = Stream(auth, l)\n",
    "    api = tweepy.API(auth)"
   ]
  },
  {
   "cell_type": "code",
   "execution_count": 6,
   "metadata": {},
   "outputs": [
    {
     "name": "stdout",
     "output_type": "stream",
     "text": [
      "Name:Christin Thomas\n",
      "Location:\n",
      "Friends:76\n"
     ]
    }
   ],
   "source": [
    "user = api.me()\n",
    "print('Name:' + user.name)\n",
    "print('Location:' + user.location)\n",
    "print('Friends:' + str(user.friends_count))"
   ]
  },
  {
   "cell_type": "code",
   "execution_count": 29,
   "metadata": {
    "collapsed": true
   },
   "outputs": [],
   "source": [
    "tweets = api.user_timeline(screen_name='realDonaldTrump', count=2000)\n",
    "tmp=[]\n",
    "\n",
    "tweets = [tweet.text for tweet in tweets]\n",
    "for j in tweets:\n",
    "    tmp.append(j)"
   ]
  },
  {
   "cell_type": "code",
   "execution_count": 30,
   "metadata": {},
   "outputs": [
    {
     "data": {
      "text/plain": [
       "['Thank you to everyone at @FEMA HQ for today’s briefing on preparations for the upcoming hurricane season. Disaster… https://t.co/SszyuwMdWp',\n",
       " 'We must always protect those who protect us. Today, it was my great honor to sign the #VAMissionAct and to make Vet… https://t.co/DVt2cb6JGC',\n",
       " 'Today we mark another milestone: the 74th anniversary of #DDay, the Allied invasion of Normandy. On June 6, 1944, m… https://t.co/BoDhaOKScP',\n",
       " 'Congratulations to Dana Rohrabacher on his big California win. We are proud of you Dana!',\n",
       " 'Many more Republican voters showed up yesterday than the Fake News thought possible. The political pundits just don… https://t.co/MuYzDbTwbo',\n",
       " '...Four reporters spotted Melania in the White House last week walking merrily along to a meeting. They never repor… https://t.co/3MbczWsFwO',\n",
       " 'The Fake News Media has been so unfair, and vicious, to my wife and our great First Lady, Melania. During her recov… https://t.co/eB64Ja1OuY',\n",
       " 'Gold Star father, Ceejay Metcalf, whose great son Michael was just honored at the White House, was fantastic this m… https://t.co/UwT1l4BiJz',\n",
       " 'Great night for Republicans! Congratulations to John Cox on a really big number in California. He can win. Even Fak… https://t.co/MDk7LJgCin',\n",
       " 'Mitch McConnell announced he will cancel the Senate’s August Recess. Great, maybe the Democrats will finally get so… https://t.co/KYTueRpKHp',\n",
       " '....The greatest Witch Hunt in political history!',\n",
       " '...This is a level of criminality beyond the pale. This is such a grave abuse of power and authority, it’s like not… https://t.co/K7PRavZhEw',\n",
       " 'Chris Farrell, Judicial Watch. “They were running an operation to undermine a candidate for President of the U.S. T… https://t.co/Cqxps2fJSz',\n",
       " 'Great interview by @LouDobbs with Chris Farrell of Judicial Watch concerning the governments counter-intelligence o… https://t.co/ZWvNPUCGuK',\n",
       " 'RT @parscale: Since the #FakeNews is full of distortions, underreporting, and lies, we launched a platform tonight presenting a comprehensi…',\n",
       " 'RT @EricTrump: #MakeAmericaGreatAgain 🇺🇸🇺🇸🇺🇸 https://t.co/37hQxUvemf',\n",
       " 'RT @robbystarbuck: Fox News has been #1 for 197 months straight. In the latest ratings disaster for CNN they lost another 25% of their view…',\n",
       " 'Wow, Strzok-Page, the incompetent &amp; corrupt FBI lovers, have texts referring to a counter-intelligence operation in… https://t.co/norZMON9XM',\n",
       " 'https://t.co/4OjDqTMEIx',\n",
       " 'Imagine how much wasteful spending we’d save if we didn’t have Chuck and Nancy standing in our way! For years, Demo… https://t.co/6BLFd0Qe8U',\n",
       " 'The HISTORIC Rescissions Package we’ve proposed would cut $15,000,000,000 in Wasteful Spending! We are getting our government back on track.',\n",
       " 'Terrific new book out by the wonderful Harris Faulkner, “9 Rules of Engagement.” Harris shares lessons from a military family. Enjoy!',\n",
       " 'Senator @RogerWicker of Mississippi has done everything necessary to Make America Great Again! Get out and vote for… https://t.co/6YWwWBtsXv',\n",
       " 'Vote for Congressman Devin Nunes, a true American Patriot the likes of which we rarely see in our modern day world.… https://t.co/vT2snsEhQU',\n",
       " 'Get the vote out in California today for Rep. Kevin McCarthy and all of the great GOP candidates for Congress. Keep… https://t.co/ma3qlU7b99',\n",
       " 'In High Tax, High Crime California, be sure to get out and vote for Republican John Cox for Governor. He will make a BIG difference!',\n",
       " 'Separating families at the Border is the fault of bad legislation passed by the Democrats. Border Security laws sho… https://t.co/IjuevCvawT',\n",
       " '....@NASCAR and Champion @MartinTruex_Jr were recently at the White House. It was a great day for a great sport!',\n",
       " 'Meeting in Singapore with North Korea will hopefully be the start of something big...we will soon see!',\n",
       " 'The Russian Witch Hunt Hoax continues, all because Jeff Sessions didn’t tell me he was going to recuse himself...I… https://t.co/XU5psckoBI',\n",
       " 'We have had many Championship teams recently at the White House including the Chicago Cubs, Houston Astros, Pittsbu… https://t.co/n9tCD5NDsg',\n",
       " 'We will proudly be playing the National Anthem and other wonderful music celebrating our Country today at 3 P.M., T… https://t.co/frLsQzTjpP',\n",
       " 'The U.S. has an increased economic value of more than 7 Trillion Dollars since the Election. May be the best econom… https://t.co/lqLXMeoOrQ',\n",
       " 'What is taking so long with the Inspector General’s Report on Crooked Hillary and Slippery James Comey. Numerous de… https://t.co/PIbQG7XG4S',\n",
       " 'The Philadelphia Eagles Football Team was invited to the White House. Unfortunately, only a small number of players… https://t.co/umtKEd0dru',\n",
       " 'Big Supreme Court ruling for Baker just out!',\n",
       " 'In many ways this is the greatest economy in the HISTORY of America and the best time EVER to look for a job!',\n",
       " 'The Fake News Media is desperate to distract from the economy and record setting economic numbers and so they keep… https://t.co/oYffJ8CUtf',\n",
       " '#500Days of American Greatness: https://t.co/qQEEPqmaax https://t.co/1VCeoTk1cI',\n",
       " 'The appointment of the Special Counsel is totally UNCONSTITUTIONAL! Despite that, we play the game because I, unlik… https://t.co/lv4QCq6QMx',\n",
       " 'Farmers have not been doing well for 15 years. Mexico, Canada, China and others have treated them unfairly. By the… https://t.co/7lFx4Anbpy',\n",
       " 'The U.S. has made such bad trade deals over so many years that we can only WIN!',\n",
       " 'China already charges a tax of 16% on soybeans. Canada has all sorts of trade barriers on our Agricultural products. Not acceptable!',\n",
       " 'As has been stated by numerous legal scholars, I have the absolute right to PARDON myself, but why would I do that… https://t.co/pB6MquREjZ',\n",
       " '“This is the best time EVER to look for a job.” James Freeman of WSJ.',\n",
       " '....We had Repeal &amp; Replace done (and the saving to our country of one trillion dollars) except for one person, but… https://t.co/bYjEgJF5KY',\n",
       " 'This is my 500th. Day in Office and we have accomplished a lot - many believe more than any President in his first… https://t.co/81IfBf1CbU',\n",
       " 'Mark Penn  “Why are there people from the Clinton Foundation on the Mueller Staff? Why is there an Independent Coun… https://t.co/FlpVbEo8fD',\n",
       " '....Paul Manafort came into the campaign very late and was with us for a short period of time (he represented Ronal… https://t.co/zHSKANmoA4',\n",
       " 'As only one of two people left who could become President, why wouldn’t the FBI or Department of “Justice” have tol… https://t.co/NNh0POU3dS',\n",
       " 'Jesse Watters “The only thing Trump obstructed was Hillary getting to the White House.”  So true!',\n",
       " 'When you’re almost 800 Billion Dollars a year down on Trade, you can’t lose a Trade War! The U.S. has been ripped o… https://t.co/f2X1YVgU4k',\n",
       " 'RT @CLewandowski_: Looking forward to being on @foxandfriends tomorrow around 7:45 AM on @FoxNews. Hope you watch.',\n",
       " 'RT @foxandfriends: 223,000 jobs added in May, even the NYT runs out of words to describe how good the numbers are! https://t.co/K1GB8G0zsf',\n",
       " \"RT @JesseBWatters: The media had it's worst week ever! @charliekirk11 and @JoeConchaTV break it down on @WattersWorld https://t.co/uMEblnh6…\",\n",
       " 'Why is it that the Wall Street Journal, though well meaning, never mentions the unfairness of the Tariffs routinely… https://t.co/1if8kkRjdC',\n",
       " 'The United States must, at long last, be treated fairly on Trade. If we charge a country ZERO to sell their goods,… https://t.co/N0vZ4IjiAG',\n",
       " 'There was No Collusion with Russia (except by the Democrats). When will this very expensive Witch Hunt Hoax ever en… https://t.co/ldhDoKrUvu',\n",
       " 'Real @FoxNews is doing great, Fake News CNN is dead! https://t.co/1p37tPiB3v',\n",
       " 'Very surprised that China would be doing this? https://t.co/D03kV07dF7',\n",
       " 'https://t.co/8lI2lomGkh',\n",
       " 'RT @KimKardashian: I would like to thank President Trump for his time this afternoon. It is our hope that the President will grant clemency…',\n",
       " 'Now this is a record that will never be broken! https://t.co/rtpLfvsBU5',\n",
       " '....“$17 million spent, it’s a scam Investigation. Americans are being worked. We now know there was Russian collus… https://t.co/tKbvlPp9Fw',\n",
       " '“John Brennan, no single figure in American history has done more to discredit the intelligence community than this… https://t.co/DETDPIYoeT',\n",
       " '“We ran out of words to describe how good the jobs numbers are.”  Neil Irwin of the @nytimes.',\n",
       " 'Today, it was my great honor to be with the brave men and women of the United States Coast Guard! https://t.co/RAyPbOGXuZ',\n",
       " 'RT @FoxNews: President @realDonaldTrump participates in the U.S. Coast Guard [@USCG] Change-of-Command Ceremony. https://t.co/ekWubVkf1h',\n",
       " 'Canada has treated our Agricultural business and Farmers very poorly for a very long period of time. Highly restric… https://t.co/FuJ5Wk1N3e',\n",
       " 'Looking forward to seeing the employment numbers at 8:30 this morning.',\n",
       " 'Why aren’t they firing no talent Samantha Bee for the horrible language used on her low ratings show? A total doubl… https://t.co/5zzFMHabQ5',\n",
       " 'A.P. has just reported that the Russian Hoax Investigation has now cost our government over $17 million, and going… https://t.co/fU3RS7E3cE',\n",
       " 'FAIR TRADE!',\n",
       " 'RT @SecPompeo: The proposed summit offers a historic opening for @POTUS and Chairman Kim to boldly lead U.S. and #DPRK into a new era of pe…',\n",
       " 'Will be giving a Full Pardon to Dinesh D’Souza today. He was treated very unfairly by our government!',\n",
       " 'Very good meetings with North Korea.',\n",
       " 'Not that it matters but I never fired James Comey because of Russia! The Corrupt Mainstream Media loves to keep pus… https://t.co/k8niTtWxAf',\n",
       " 'The corrupt Mainstream Media is working overtime not to mention the infiltration of people, Spies (Informants), int… https://t.co/Ud56WLlOtP',\n",
       " 'Iger, where is my call of apology? You and ABC have offended millions of people, and they demand a response. How is… https://t.co/HaV9BsvE1o',\n",
       " 'RT @AP_Politics: Trump set to promote youth sports, wants such activities to be more accessible to economically disadvantaged children: htt…',\n",
       " 'RT @dougmillsnyt: Children race as @realDonaldTrump looks on with @IvankaTrump and New York Yankees legend Mariano Rivera they as they part…',\n",
       " 'RT @IvankaTrump: Today @POTUS hosted #FieldDay at the @WhiteHouse with the announced President’s Council on Sports, Fitness and Nutrition.…',\n",
       " 'RT @HerschelWalker: What an awesome day in D.C. participating @WhiteHouse Sports &amp; Fitness Day with @IvankaTrump @POTUS @MistyMayTreanor @M…',\n",
       " 'RUSH LIMBAUGH  “If the FBI was so concerned, and if they weren’t targeting Trump, they should have told Trump. If t… https://t.co/y2nFPqjJqf',\n",
       " '“The recusal of Jeff Sessions was an unforced betrayal of the President of the United States.” JOE DIGENOVA, former U.S. Attorney.',\n",
       " 'RT @Scavino45: President Trump kisses Jordan McLinn, who suffers from Duchenne Muscular Dystrophy (DMD), after signing the #RightToTry Act…',\n",
       " 'The soon to be released book, “The Russia Hoax, The Illicit Scheme To Clear Hillary Clinton And Frame Donald Trump,… https://t.co/bYHjyfPnKA',\n",
       " 'Very importantly, @RepDanDonovan will win for the Republicans in November...and his opponent will not. Remember Ala… https://t.co/RVWUwUz01J',\n",
       " 'There is no one better to represent the people of N.Y. and Staten Island (a place I know very well) than… https://t.co/bE5iSiBkYA',\n",
       " 'Great meeting with @KimKardashian today, talked about prison reform and sentencing. https://t.co/uOy4UJ41JF',\n",
       " 'Moments ago, it was my great honor to sign #RightToTry into law! https://t.co/mtPiHsBc1H https://t.co/hFtpyJlV4h',\n",
       " 'With the #RightToTry Law I signed today, patients with life threatening illnesses will finally have access to exper… https://t.co/6tTYqoJviG',\n",
       " 'Today I am proud to keep another promise to the American people as I sign the #RightToTry Legislation into law. https://t.co/VD8CN5YfIo',\n",
       " 'Bob Iger of ABC called Valerie Jarrett to let her know that “ABC does not tolerate comments like those” made by Ros… https://t.co/6mbr4M5sW2',\n",
       " 'The Failing and Corrupt @nytimes estimated the crowd last night at “1000 people,” when in fact it was many times th… https://t.co/xShxdaBksU',\n",
       " '....There are lots of really good lawyers in the country, he could have picked somebody else!” And I wish I did!',\n",
       " '....chief law enforcement officer, and they told me later, ‘oh by the way I’m not going to be able to participate i… https://t.co/eGeIJVA125',\n",
       " 'Rep.Trey Gowdy, “I don’t think so, I think what the President is doing is expressing frustration that Attorney Gene… https://t.co/joZ7nSIVd8',\n",
       " 'The Fake Mainstream Media has, from the time I announced I was running for President, run the most highly sophistic… https://t.co/sLngXtjuiV',\n",
       " 'Sorry, I’ve got to start focusing my energy on North Korea Nuclear, bad Trade Deals, VA Choice, the Economy, rebuil… https://t.co/dwuXTqetJ7',\n",
       " 'Why aren’t the 13 Angry and heavily conflicted Democrats investigating the totally Crooked Campaign of totally Croo… https://t.co/DTGUPCtveI',\n",
       " 'The 13 Angry Democrats (plus people who worked 8 years for Obama) working on the rigged Russia Witch Hunt, will be… https://t.co/xaRRUzpZ0X',\n",
       " '“This investigation involved far more surveillance than we ever had any idea about. It wasn’t just a wiretap agains… https://t.co/M1ie7TiTdS',\n",
       " 'We have put a great team together for our talks with North Korea. Meetings are currently taking place concerning Su… https://t.co/aq8QGHcDLY',\n",
       " 'Democrats mistakenly tweet 2014 pictures from Obama’s term showing children from the Border in steel cages. They th… https://t.co/NfB0juTcum',\n",
       " 'California has a rare opportunity to turn things around and solve its high crime, high tax, problems - along with s… https://t.co/iZMPvzrVRN',\n",
       " 'A Democratic lawmaker just introduced a bill to Repeal the GOP Tax Cuts (no chance). This is too good to be true fo… https://t.co/xIq9Y9vJwK',\n",
       " 'Our fallen heroes have not only written our history they have shaped our destiny. They saved the lives of the men a… https://t.co/MYpuwlJBB8',\n",
       " 'The heroes who rest in these hallowed fields, in cemeteries, battlefields, and burial grounds near and far are draw… https://t.co/RdAZqLvkPT',\n",
       " 'Thank you for joining us on this solemn day of remembrance. We are gathered here on the sacred soil of… https://t.co/Wv3SUUxPeF',\n",
       " '“We now find out that the Obama Administration put the opposing campaigns presidential candidate, or his campaign,… https://t.co/CHHc1ODry3',\n",
       " '“Sally Yates is part of concerns people have raised about bias in the Justice Dept. I find her actions to be really… https://t.co/sALSMsxBPf',\n",
       " '“The President deserves some answers.” @FoxNews in discussing “SPYGATE.”',\n",
       " 'Happy Memorial Day! Those who died for our great country would be very happy and proud at how well our country is d… https://t.co/6lz4VyzLqH',\n",
       " '#MemorialDay🇺🇸 https://t.co/Iohcuhi4dQ',\n",
       " 'Why didn’t President Obama do something about the so-called Russian Meddling when he was told about it by the FBI b… https://t.co/DN4mqIfPm9',\n",
       " 'Our United States team has arrived in North Korea to make arrangements for the Summit between Kim Jong Un and mysel… https://t.co/m8XL0g7BgQ',\n",
       " 'Why didn’t the 13 Angry Democrats investigate the campaign of Crooked Hillary Clinton, many crimes, much Collusion… https://t.co/81l70BLUTy',\n",
       " 'Fantastic to have 400,000 GREAT MEN &amp; WOMEN of Rolling Thunder in D.C. showing their patriotism. They love our Coun… https://t.co/0nu9p8znvV',\n",
       " 'Who’s going to give back the young and beautiful lives (and others) that have been devastated and destroyed by the… https://t.co/Q5v532Pn9X',\n",
       " 'WELCOME HOME JOSH! https://t.co/2X0cKE4stx',\n",
       " 'When will the 13 Angry Democrats (&amp; those who worked for President O), reveal their disqualifying Conflicts of Inte… https://t.co/2X58MqnBH6',\n",
       " 'This whole Russia Probe is Rigged. Just an excuse as to why the Dems and Crooked Hillary lost the Election and Stat… https://t.co/VctDHQf9VQ',\n",
       " 'With Spies, or “Informants” as the Democrats like to call them because it sounds less sinister (but it’s not), all… https://t.co/D3WSweqmUB',\n",
       " 'The Failing @nytimes quotes “a senior White House official,” who doesn’t exist, as saying “even if the meeting were… https://t.co/ics8UcYr96',\n",
       " 'Unlike what the Failing and Corrupt New York Times would like people to believe, there is ZERO disagreement within… https://t.co/ONjLFs4bcS',\n",
       " 'Thanks to very brave Teacher &amp; Hero Jason Seaman of Noblesville, Indiana, for his heroic act in saving so many prec… https://t.co/xPGyNFomu0',\n",
       " 'Looking forward to seeing Joshua Holt this evening in the White House. The great people of Utah are Celebrating!',\n",
       " 'Put pressure on the Democrats to end the horrible law that separates children from there parents once they cross th… https://t.co/4a3owtmq0h',\n",
       " 'Good news about the release of the American hostage from Venezuela. Should be landing in D.C. this evening and be i… https://t.co/yDynG0Z0mq',\n",
       " 'We are having very productive talks with North Korea about reinstating the Summit which, if it does happen, will li… https://t.co/JmUp3oifaq',\n",
       " '...but complain and obstruct. They made only bad deals (Iran) and their so-called Trade Deals are the laughing stock of the world!',\n",
       " 'Senator Schumer and Obama Administration let phone company ZTE flourish with no security checks. I closed it down t… https://t.co/Q01eeyBBvC',\n",
       " 'Funny to watch the Democrats criticize Trade Deals being negotiated by me when they don’t even know what the deals… https://t.co/Fhx2mcvile',\n",
       " 'Chicago Police have every right to legally protest against the mayor and an administration that just won’t let them… https://t.co/48VMxLoZ78',\n",
       " 'To the @NavalAcademy Class of 2018, I say: We know you are up to the task. We know you will make us proud. We know… https://t.co/CqUo9wFgPN',\n",
       " 'On behalf of the American People, CONGRATULATIONS! We love you! https://t.co/YRlj0vRXwk',\n",
       " 'Today, it was my great honor to deliver the 2018 Commencement Address at the United States @NavalAcademy in Annapol… https://t.co/ldCJnUqRKz',\n",
       " 'Very good news to receive the warm and productive statement from North Korea. We will soon see where it will lead,… https://t.co/BoKsJzcaTV',\n",
       " 'Democrats are so obviously rooting against us in our negotiations with North Korea. Just like they are coming to th… https://t.co/lL1XiuMm7Y',\n",
       " '“Everyone knows there was a Spy, and in fact the people who were involved in the Spying are admitting that there wa… https://t.co/XkOjxEl0kH',\n",
       " 'Can anyone even imagine having Spies placed in a competing campaign, by the people and party in absolute power, for… https://t.co/ZPxBYMRB51',\n",
       " 'The Democrats are now alluding to the the concept that having an Informant placed in an opposing party’s campaign i… https://t.co/t9Ba06crSF',\n",
       " 'RT @realDonaldTrump: Not surprisingly, the GREAT Men &amp; Women of the FBI are starting to speak out against Comey, McCabe and all of the poli…',\n",
       " 'RT @Scavino45: Last week after visiting FLOTUS Melania, POTUS Trump went to visit wounded HEROES at Walter Reed Medical Center. He told the…',\n",
       " 'RT @Scavino45: Today, President Trump issued an Executive Grant of Clemency (Full Pardon) posthumously to John Arthur “Jack” Johnson, the f…',\n",
       " 'RT @Scavino45: cc: @POTUS @realDonaldTrump https://t.co/MasB5mdUVS',\n",
       " 'RT @Scavino45: Today, @POTUS @realDonaldTrump welcomed 106-year-old Pearl Harbor veteran Ray Chavez of Poway, California to the @WhiteHouse…',\n",
       " 'Today, it was my great honor to present the #MedalOfHonor to @USNavy (SEAL) Master Chief Special Warfare Operator B… https://t.co/JGt8zMujdD',\n",
       " 'Today, it was my honor to sign #S2155, the \"Economic Growth, Regulatory Relief, and Consumer Protection Act.” Read… https://t.co/YVrpTLQZvF',\n",
       " 'I have decided to terminate the planned Summit in Singapore on June 12th. While many things can happen and a great… https://t.co/EbxOgSODzO',\n",
       " 'It was my great honor to host a roundtable re: MS-13 yesterday in Bethpage, New York. Democrats must abandon their… https://t.co/iHqJplzDAZ',\n",
       " 'Sadly, I was forced to cancel the Summit Meeting in Singapore with Kim Jong Un. https://t.co/rLwXxBxFKx',\n",
       " 'Not surprisingly, the GREAT Men &amp; Women of the FBI are starting to speak out against Comey, McCabe and all of the p… https://t.co/GNAFvtupjl',\n",
       " 'Clapper has now admitted that there was Spying in my campaign. Large dollars were paid to the Spy, far beyond norma… https://t.co/7Xf9Jodfq0',\n",
       " 'Will be interviewed on @foxandfriends tomorrow morning at 6:00 A.M. Enjoy!',\n",
       " 'Great to be in New York for the day. Heading back to the @WhiteHouse now, lots of work to be done! https://t.co/w3LUiQ8SWh',\n",
       " 'Thank you to all of the incredible law enforcement officers and firefighters in Bethpage, New York. Keep up the gre… https://t.co/DkmMmlwk64',\n",
       " 'Crippling loopholes in our laws have enabled MS-13 gang members and other criminals to infiltrate our communities -… https://t.co/eIvSlLglAb',\n",
       " 'Today on Long Island, we were all moved to be joined by families who have suffered unthinkable heartbreak at the ha… https://t.co/rYH7yzB6Wp',\n",
       " 'Thank you @SBAList! #SBAGala https://t.co/mPKwukX08o',\n",
       " 'WITCH HUNT!',\n",
       " 'There will be big news coming soon for our great American Autoworkers. After many decades of losing your jobs to ot… https://t.co/BiRtiKarpd',\n",
       " 'Big legislation will be signed by me shortly. After many years, RIGHT TO TRY and big changes to DODD FRANK.',\n",
       " 'Our Trade Deal with China is moving along nicely, but in the end we will probably have to use a different structure… https://t.co/2ZzYQAUsy2',\n",
       " '“Trump should be happy that the FBI was SPYING on his campaign” No, James Clapper, I am not happy. Spying on a camp… https://t.co/0OXtEFafNY',\n",
       " 'Everybody is with Tomi Lahren, a truly outstanding and respected young woman! @foxandfriends',\n",
       " 'SPYGATE could be one of the biggest political scandals in history!',\n",
       " '“It’s clear that they had eyes and ears all over the Trump Campaign” Judge Andrew Napolitano',\n",
       " 'Look how things have turned around on the Criminal Deep State. They go after Phony Collusion with Russia, a made up… https://t.co/DDGNcbXa85',\n",
       " '@foxandfriends  “New Bombshell in the Obama Spying Scandal. Did other Agencies SPY on Trump Campaign?” Even Clapper… https://t.co/6yEb63xzcE',\n",
       " '...Follow the money! The spy was there early in the campaign and yet never reported Collusion with Russia, because… https://t.co/gJGldziTWv',\n",
       " 'If the person placed very early into my campaign wasn’t a SPY put there by the previous Administration for politica… https://t.co/GNhqCqfGkm',\n",
       " 'For the first time since Roe v. Wade, America has a Pro-Life President, a Pro-Life Vice President, a Pro-Life House… https://t.co/waNyHutAab',\n",
       " 'It was my honor to welcome @NASCAR Cup Series Champion @MartinTruex_Jr and his team to the @WhiteHouse yesterday! https://t.co/5cr2oybrnQ',\n",
       " 'Today, it was my great honor to welcome President Moon Jae-in of the Republic of Korea to the @WhiteHouse!🇺🇸🇰🇷 https://t.co/yvOxNiA1DM',\n",
       " '.@AsaHutchinson, the great Governor of Arkansas, is in a primary tomorrow. He has done an incredible job with a foc… https://t.co/4RuRB3hBT5',\n",
       " 'Under our potential deal with China, they will purchase from our Great American Farmers practically as much as our Farmers can produce.',\n",
       " 'The Wall Street Journal asks, “WHERE IN THE WORLD WAS BARACK OBAMA?”  A very good question!',\n",
       " '...they then used to start an investigation about Trump. It is that simple. This guy is the genesis of this whole D… https://t.co/UJkGIqjIwi',\n",
       " '....top of the FBI. Brennan started this entire debacle about President Trump. We now know that Brennan had detaile… https://t.co/HnquHM9Wtq',\n",
       " '“John Brennan is panicking. He has disgraced himself, he has disgraced the Country, he has disgraced the entire Int… https://t.co/8ITWKc8oid',\n",
       " 'China must continue to be strong &amp; tight on the Border of North Korea until a deal is made. The word is that recent… https://t.co/OJgzV5S6i7',\n",
       " 'On China, Barriers and Tariffs to come down for first time.',\n",
       " 'China has agreed to buy massive amounts of ADDITIONAL Farm/Agricultural Products - would be one of the best things… https://t.co/3JWukYraU1',\n",
       " 'I ask Senator Chuck Schumer, why didn’t President Obama &amp; the Democrats do something about Trade with China, includ… https://t.co/e8k3tCSFuq',\n",
       " 'I hereby demand, and will do so officially tomorrow, that the Department of Justice look into whether or not the FB… https://t.co/GPZy1kPKgJ',\n",
       " 'RT @EricTrump: It is emotional day being back at @StJude in celebration of our dear friend Colin! He was a beautiful child who we will all…',\n",
       " 'The Witch Hunt finds no Collusion with Russia - so now they’re looking at the rest of the World. Oh’ great!',\n",
       " '....and why hasn’t the Podesta brother been charged and arrested, like others, after being forced to close down his… https://t.co/KCLczjNejo',\n",
       " 'What ever happened to the Server, at the center of so much Corruption, that the Democratic National Committee REFUS… https://t.co/GJpvXy5gF6',\n",
       " 'Now that the Witch Hunt has given up on Russia and is looking at the rest of the World, they should easily be able… https://t.co/cq9OV0xgMK',\n",
       " '...in the Hillary Clinton Campaign where she deleted 33,000 Emails, got $145,000,000 while Secretary of State, paid… https://t.co/MWjsRLsRv3',\n",
       " '....At what point does this soon to be $20,000,000 Witch Hunt, composed of 13 Angry and Heavily Conflicted Democrat… https://t.co/GtB6hPqE7d',\n",
       " 'Things are really getting ridiculous. The Failing and Crooked (but not as Crooked as Hillary Clinton) @nytimes has… https://t.co/cxZh2Q5pYF',\n",
       " 'If the FBI or DOJ was infiltrating a campaign for the benefit of another campaign, that is a really big deal. Only… https://t.co/HsHTUzpwxc',\n",
       " 'Great to have our incredible First Lady back home in the White House. Melania is feeling and doing really well. Tha… https://t.co/XHEqoCFv8E',\n",
       " 'Happy #ArmedForcesDay to our GREAT military men and women for their selfless service to our Nation! https://t.co/jbJvrkV1hH',\n",
       " 'RT @realDonaldTrump: We grieve for the terrible loss of life, and send our support and love to everyone affected by this horrible attack in…',\n",
       " 'America is blessed with extraordinary energy abundance, including more than 250 years worth of beautiful clean coal… https://t.co/Um82NEyz0G']"
      ]
     },
     "execution_count": 30,
     "metadata": {},
     "output_type": "execute_result"
    }
   ],
   "source": [
    "tweets"
   ]
  },
  {
   "cell_type": "code",
   "execution_count": 31,
   "metadata": {
    "collapsed": true
   },
   "outputs": [],
   "source": [
    "countryinfo = ['Afghanistan', 'Albania', 'Algeria', 'American Samoa', 'Andorra', 'Angola', 'Anguilla', 'Antarctica', 'Antigua and Barbuda', 'Argentina', 'Armenia', 'Aruba', 'Australia', 'Austria', 'Azerbaijan', 'Bahamas', 'Bahrain', 'Bangladesh', 'Barbados', 'Belarus', 'Belgium', 'Belize', 'Benin', 'Bermuda', 'Bhutan', 'Bolivia', 'Bosnia and Herzegowina', 'Botswana', 'Bouvet Island', 'Brazil', 'British Indian Ocean Territory', 'Brunei Darussalam', 'Bulgaria', 'Burkina Faso', 'Burundi', 'Cambodia', 'Cameroon', 'Canada', 'Cape Verde', 'Cayman Islands', 'Central African Republic', 'Chad', 'Chile', 'China', 'Christmas Island', 'Cocos (Keeling) Islands', 'Colombia', 'Comoros', 'Congo', 'Congo, the Democratic Republic of the', 'Cook Islands', 'Costa Rica', \"Cote d'Ivoire\", 'Croatia (Hrvatska)', 'Cuba', 'Cyprus', 'Czech Republic', 'Denmark', 'Djibouti', 'Dominica', 'Dominican Republic', 'East Timor', 'Ecuador', 'Egypt', 'El Salvador', 'Equatorial Guinea', 'Eritrea', 'Estonia', 'Ethiopia', 'Falkland Islands (Malvinas)', 'Faroe Islands', 'Fiji', 'Finland', 'France', 'France Metropolitan', 'French Guiana', 'French Polynesia', 'French Southern Territories', 'Gabon', 'Gambia', 'Georgia', 'Germany', 'Ghana', 'Gibraltar', 'Greece', 'Greenland', 'Grenada', 'Guadeloupe', 'Guam', 'Guatemala', 'Guinea', 'Guinea-Bissau', 'Guyana', 'Haiti', 'Heard and Mc Donald Islands', 'Holy See (Vatican City State)', 'Honduras', 'Hong Kong', 'Hungary', 'Iceland', 'India', 'Indonesia', 'Iran (Islamic Republic of)', 'Iraq', 'Ireland', 'Israel', 'Italy', 'Jamaica', 'Japan', 'Jordan', 'Kazakhstan', 'Kenya', 'Kiribati', \"Korea, Democratic People's Republic of\", 'Korea, Republic of', 'Kuwait', 'Kyrgyzstan', \"Lao, People's Democratic Republic\", 'Latvia', 'Lebanon', 'Lesotho', 'Liberia', 'Libyan Arab Jamahiriya', 'Liechtenstein', 'Lithuania', 'Luxembourg', 'Macau', 'Macedonia, The Former Yugoslav Republic of', 'Madagascar', 'Malawi', 'Malaysia', 'Maldives', 'Mali', 'Malta', 'Marshall Islands', 'Martinique', 'Mauritania', 'Mauritius', 'Mayotte', 'Mexico', 'Micronesia, Federated States of', 'Moldova, Republic of', 'Monaco', 'Mongolia', 'Montserrat', 'Morocco', 'Mozambique', 'Myanmar', 'Namibia', 'Nauru', 'Nepal', 'Netherlands', 'Netherlands Antilles', 'New Caledonia', 'New Zealand', 'Nicaragua', 'Niger', 'Nigeria', 'Niue', 'Norfolk Island', 'Northern Mariana Islands', 'Norway', 'Oman', 'Pakistan', 'Palau', 'Panama', 'Papua New Guinea', 'Paraguay', 'Peru', 'Philippines', 'Pitcairn', 'Poland', 'Portugal', 'Puerto Rico', 'Qatar', 'Reunion', 'Romania', 'Russian Federation', 'Rwanda', 'Saint Kitts and Nevis', 'Saint Lucia', 'Saint Vincent and the Grenadines', 'Samoa', 'San Marino', 'Sao Tome and Principe', 'Saudi Arabia', 'Senegal', 'Seychelles', 'Sierra Leone', 'Singapore', 'Slovakia (Slovak Republic)', 'Slovenia', 'Solomon Islands', 'Somalia', 'South Africa', 'South Georgia and the South Sandwich Islands', 'Spain', 'Sri Lanka', 'St. Helena', 'St. Pierre and Miquelon', 'Sudan', 'Suriname', 'Svalbard and Jan Mayen Islands', 'Swaziland', 'Sweden', 'Switzerland', 'Syrian Arab Republic', 'Taiwan, Province of China', 'Tajikistan', 'Tanzania, United Republic of', 'Thailand', 'Togo', 'Tokelau', 'Tonga', 'Trinidad and Tobago', 'Tunisia', 'Turkey', 'Turkmenistan', 'Turks and Caicos Islands', 'Tuvalu', 'Uganda', 'Ukraine', 'United Arab Emirates', 'United Kingdom', 'United States', 'United States Minor Outlying Islands', 'Uruguay', 'Uzbekistan', 'Vanuatu', 'Venezuela', 'Vietnam', 'Virgin Islands (British)', 'Virgin Islands (U.S.)', 'Wallis and Futuna Islands', 'Western Sahara', 'Yemen', 'Yugoslavia', 'Zambia', 'Zimbabwe']"
   ]
  },
  {
   "cell_type": "code",
   "execution_count": 32,
   "metadata": {},
   "outputs": [
    {
     "name": "stdout",
     "output_type": "stream",
     "text": [
      "{'Canada': 3, 'China': 9, 'India': 1, 'Jordan': 1, 'Mexico': 1, 'Singapore': 3, 'United States': 5, 'Venezuela': 1}\n"
     ]
    }
   ],
   "source": [
    "final={}\n",
    "for i in range(len(countryinfo)):\n",
    "    for j in range(len(tmp)):\n",
    "        if countryinfo[i] in tmp[j]:\n",
    "            if countryinfo[i] not in final:\n",
    "                final[countryinfo[i]]=0\n",
    "            final[countryinfo[i]]+=1\n",
    "print(final)\n",
    "            "
   ]
  },
  {
   "cell_type": "code",
   "execution_count": null,
   "metadata": {
    "collapsed": true
   },
   "outputs": [],
   "source": []
  }
 ],
 "metadata": {
  "kernelspec": {
   "display_name": "Python 3",
   "language": "python",
   "name": "python3"
  },
  "language_info": {
   "codemirror_mode": {
    "name": "ipython",
    "version": 3
   },
   "file_extension": ".py",
   "mimetype": "text/x-python",
   "name": "python",
   "nbconvert_exporter": "python",
   "pygments_lexer": "ipython3",
   "version": "3.6.1"
  }
 },
 "nbformat": 4,
 "nbformat_minor": 2
}
