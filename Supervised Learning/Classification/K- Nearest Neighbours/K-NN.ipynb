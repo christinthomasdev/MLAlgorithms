{
 "cells": [
  {
   "cell_type": "markdown",
   "metadata": {},
   "source": [
    "# KNN"
   ]
  },
  {
   "cell_type": "code",
   "execution_count": 5,
   "metadata": {
    "collapsed": true
   },
   "outputs": [],
   "source": [
    "import numpy as np\n",
    "from collections import Counter\n"
   ]
  },
  {
   "cell_type": "code",
   "execution_count": 6,
   "metadata": {},
   "outputs": [
    {
     "data": {
      "text/plain": [
       "{'k': [[6, 5], [7, 7], [8, 6]], 'r': [[1, 2], [2, 3], [3, 1]]}"
      ]
     },
     "execution_count": 6,
     "metadata": {},
     "output_type": "execute_result"
    }
   ],
   "source": [
    "dataset = { 'r' : [[1,2],[2,3],[3,1]], 'k' : [[6,5],[7,7],[8,6]]}\n",
    "new_data = [1,1]\n",
    "dataset"
   ]
  },
  {
   "cell_type": "code",
   "execution_count": 7,
   "metadata": {
    "collapsed": true
   },
   "outputs": [],
   "source": [
    "dis=[]\n",
    "def knn(data,new_d,k=5):\n",
    "   \n",
    "    for group in data:\n",
    "        for features in data[group]:\n",
    "            distance = np.linalg.norm(np.array(features)-np.array(new_data))\n",
    "            dis.append([distance,group])\n",
    "    votes = [i[1] for i in sorted(dis)[:k]]   \n",
    "    print(dis)\n",
    "    print('----------')\n",
    "    print(sorted(dis))\n",
    "    print('----------')\n",
    "    print(votes)\n",
    "    print('----------')\n",
    "    print(Counter(votes))\n",
    "    print('----------')\n",
    "    vote_result = Counter(votes).most_common(1)[0][0]\n",
    "    print(vote_result)\n",
    "    \n",
    "    rc= votes.count('r')\n",
    "    kc= votes.count('k')\n",
    "    print(rc)\n",
    "    print(kc)\n",
    "    return vote_result"
   ]
  },
  {
   "cell_type": "code",
   "execution_count": 8,
   "metadata": {},
   "outputs": [
    {
     "name": "stdout",
     "output_type": "stream",
     "text": [
      "[[1.0, 'r'], [2.2360679774997898, 'r'], [2.0, 'r'], [6.4031242374328485, 'k'], [8.4852813742385695, 'k'], [8.6023252670426267, 'k']]\n",
      "----------\n",
      "[[1.0, 'r'], [2.0, 'r'], [2.2360679774997898, 'r'], [6.4031242374328485, 'k'], [8.4852813742385695, 'k'], [8.6023252670426267, 'k']]\n",
      "----------\n",
      "['r', 'r', 'r', 'k', 'k', 'k']\n",
      "----------\n",
      "Counter({'r': 3, 'k': 3})\n",
      "----------\n",
      "r\n",
      "3\n",
      "3\n"
     ]
    },
    {
     "data": {
      "text/plain": [
       "'r'"
      ]
     },
     "execution_count": 8,
     "metadata": {},
     "output_type": "execute_result"
    }
   ],
   "source": [
    "knn(dataset,new_data,k=7)"
   ]
  },
  {
   "cell_type": "code",
   "execution_count": null,
   "metadata": {},
   "outputs": [],
   "source": []
  },
  {
   "cell_type": "code",
   "execution_count": 11,
   "metadata": {},
   "outputs": [
    {
     "ename": "NameError",
     "evalue": "name 'rc' is not defined",
     "output_type": "error",
     "traceback": [
      "\u001b[0;31m---------------------------------------------------------------------------\u001b[0m",
      "\u001b[0;31mNameError\u001b[0m                                 Traceback (most recent call last)",
      "\u001b[0;32m<ipython-input-11-2bad6adab89b>\u001b[0m in \u001b[0;36m<module>\u001b[0;34m()\u001b[0m\n\u001b[0;32m----> 1\u001b[0;31m \u001b[0mcon\u001b[0m\u001b[0;34m(\u001b[0m\u001b[0mrc\u001b[0m\u001b[0;34m)\u001b[0m\u001b[0;34m\u001b[0m\u001b[0m\n\u001b[0m",
      "\u001b[0;31mNameError\u001b[0m: name 'rc' is not defined"
     ]
    }
   ],
   "source": [
    "con(rc)"
   ]
  },
  {
   "cell_type": "code",
   "execution_count": null,
   "metadata": {
    "collapsed": true
   },
   "outputs": [],
   "source": []
  }
 ],
 "metadata": {
  "kernelspec": {
   "display_name": "Python 3",
   "language": "python",
   "name": "python3"
  },
  "language_info": {
   "codemirror_mode": {
    "name": "ipython",
    "version": 3
   },
   "file_extension": ".py",
   "mimetype": "text/x-python",
   "name": "python",
   "nbconvert_exporter": "python",
   "pygments_lexer": "ipython3",
   "version": "3.6.1"
  }
 },
 "nbformat": 4,
 "nbformat_minor": 2
}
